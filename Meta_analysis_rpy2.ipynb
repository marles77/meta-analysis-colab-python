{
  "nbformat": 4,
  "nbformat_minor": 0,
  "metadata": {
    "colab": {
      "provenance": [],
      "authorship_tag": "ABX9TyPbgCvSf8eYwagK9NW/rS+C",
      "include_colab_link": true
    },
    "kernelspec": {
      "name": "python3",
      "display_name": "Python 3"
    },
    "language_info": {
      "name": "python"
    }
  },
  "cells": [
    {
      "cell_type": "markdown",
      "metadata": {
        "id": "view-in-github",
        "colab_type": "text"
      },
      "source": [
        "<a href=\"https://colab.research.google.com/github/marles77/meta-analysis-colab-python/blob/main/Meta_analysis_rpy2.ipynb\" target=\"_parent\"><img src=\"https://colab.research.google.com/assets/colab-badge.svg\" alt=\"Open In Colab\"/></a>"
      ]
    },
    {
      "cell_type": "markdown",
      "source": [
        "# Meta-analysis with Python and R via rpy2 package\n",
        "### Author: Marcin Leśniak\n",
        "This notebook utilizes [rpy2](https://rpy2.github.io/) Python package which provides an interface to R. Because both Python and R interpreters are installed in Google Colab by default, one can easily embed R functions in Python code.\n",
        "There are 7 steps to complete meta-analysis in this notebook:\n",
        "1. [Preparing Python-R binding](#cell-1)\n",
        "2. [Importing modules](#cell-2)\n",
        "3. [Preparing data](#cell-3)\n",
        "4. [Running R metafor functions](#cell-4)\n",
        "5. [CI and weight calculation](#cell-5)\n",
        "6. [Creating a forest plot](#cell-6)\n",
        "7. [Publication bias analysis](#cell-7)"
      ],
      "metadata": {
        "id": "nZhrL6d4v7oO"
      }
    },
    {
      "cell_type": "markdown",
      "source": [
        "<a name=\"cell-1\"></a>\n",
        "## 1. Prepare Python-R binding\n"
      ],
      "metadata": {
        "id": "AlXcRle6fDEx"
      }
    },
    {
      "cell_type": "code",
      "source": [
        "# Upgrade rpy2 to the latest version\n",
        "!pip install rpy2 --upgrade"
      ],
      "metadata": {
        "colab": {
          "base_uri": "https://localhost:8080/"
        },
        "id": "B0aNSyJCfy7C",
        "outputId": "f3a7f9dd-1a22-4f26-9994-03ffcddf8ef6"
      },
      "execution_count": null,
      "outputs": [
        {
          "output_type": "stream",
          "name": "stdout",
          "text": [
            "Requirement already satisfied: rpy2 in /usr/local/lib/python3.10/dist-packages (3.5.5)\n",
            "Collecting rpy2\n",
            "  Downloading rpy2-3.5.13.tar.gz (218 kB)\n",
            "\u001b[2K     \u001b[90m━━━━━━━━━━━━━━━━━━━━━━━━━━━━━━━━━━━━━━━\u001b[0m \u001b[32m218.8/218.8 kB\u001b[0m \u001b[31m7.5 MB/s\u001b[0m eta \u001b[36m0:00:00\u001b[0m\n",
            "\u001b[?25h  Installing build dependencies ... \u001b[?25l\u001b[?25hdone\n",
            "  Getting requirements to build wheel ... \u001b[?25l\u001b[?25hdone\n",
            "  Preparing metadata (pyproject.toml) ... \u001b[?25l\u001b[?25hdone\n",
            "Requirement already satisfied: cffi>=1.10.0 in /usr/local/lib/python3.10/dist-packages (from rpy2) (1.15.1)\n",
            "Requirement already satisfied: jinja2 in /usr/local/lib/python3.10/dist-packages (from rpy2) (3.1.2)\n",
            "Requirement already satisfied: tzlocal in /usr/local/lib/python3.10/dist-packages (from rpy2) (5.0.1)\n",
            "Requirement already satisfied: pycparser in /usr/local/lib/python3.10/dist-packages (from cffi>=1.10.0->rpy2) (2.21)\n",
            "Requirement already satisfied: MarkupSafe>=2.0 in /usr/local/lib/python3.10/dist-packages (from jinja2->rpy2) (2.1.3)\n",
            "Building wheels for collected packages: rpy2\n",
            "  Building wheel for rpy2 (pyproject.toml) ... \u001b[?25l\u001b[?25hdone\n",
            "  Created wheel for rpy2: filename=rpy2-3.5.13-cp310-cp310-linux_x86_64.whl size=332814 sha256=a8a0eae61720a8fbb4be0549c646d0c5b2a6725bbe1b686d5386f3e887a9ae8a\n",
            "  Stored in directory: /root/.cache/pip/wheels/b3/10/14/333faaf40f9cd461b2cd5a785a32d593b88e08b1834f081bd5\n",
            "Successfully built rpy2\n",
            "Installing collected packages: rpy2\n",
            "  Attempting uninstall: rpy2\n",
            "    Found existing installation: rpy2 3.5.5\n",
            "    Uninstalling rpy2-3.5.5:\n",
            "      Successfully uninstalled rpy2-3.5.5\n",
            "Successfully installed rpy2-3.5.13\n"
          ]
        }
      ]
    },
    {
      "cell_type": "code",
      "source": [
        "# Just checking...\n",
        "import rpy2, rpy2.situation\n",
        "\n",
        "for row in rpy2.situation.iter_info():\n",
        "    print(row)\n"
      ],
      "metadata": {
        "colab": {
          "base_uri": "https://localhost:8080/"
        },
        "id": "POpwIYo-ghtD",
        "outputId": "e3e2ae95-cfaf-40fe-8371-23962c074d74"
      },
      "execution_count": null,
      "outputs": [
        {
          "output_type": "stream",
          "name": "stdout",
          "text": [
            "\u001b[1mrpy2 version:\u001b[0m\n",
            "3.5.13\n",
            "\u001b[1mPython version:\u001b[0m\n",
            "3.10.12 (main, Jun  7 2023, 12:45:35) [GCC 9.4.0]\n",
            "\u001b[1mLooking for R's HOME:\u001b[0m\n",
            "    Environment variable R_HOME: None\n",
            "    Calling `R RHOME`: /usr/lib/R\n",
            "    Environment variable R_LIBS_USER: None\n",
            "\u001b[1mR's value for LD_LIBRARY_PATH:\u001b[0m\n",
            "/usr/lib/R/lib:/usr/lib/x86_64-linux-gnu:/usr/lib/jvm/default-java/lib/server:/usr/local/nvidia/lib:/usr/local/nvidia/lib64\n",
            "\u001b[1mR version:\u001b[0m\n",
            "    In the PATH: R version 4.3.1 (2023-06-16) -- \"Beagle Scouts\"\n",
            "    Loading R library from rpy2: OK\n",
            "\u001b[1mAdditional directories to load R packages from:\u001b[0m\n",
            "None\n",
            "\u001b[1mC extension compilation:\u001b[0m\n",
            "  include:\n",
            "  ['/usr/share/R/include']\n",
            "  libraries:\n",
            "  ['R', 'pcre2-8', 'lzma', 'bz2', 'z', 'rt', 'dl', 'm', 'icuuc', 'icui18n']\n",
            "  library_dirs:\n",
            "  ['/usr/lib/R/lib']\n",
            "  extra_compile_args:\n",
            "  ['-std=c99']\n",
            "  extra_link_args:\n",
            "  ['-Wl,--export-dynamic', '-fopenmp', '-Wl,-Bsymbolic-functions', '-Wl,-z,relro']\n",
            "Directory for the R shared library:\n",
            "lib\n",
            "\u001b[1mCFFI extension type\u001b[0m\n",
            "  Environment variable: RPY2_CFFI_MODE\n",
            "  Value: CFFI_MODE.ANY\n",
            "  ABI: PRESENT\n",
            "  API: PRESENT\n"
          ]
        }
      ]
    },
    {
      "cell_type": "markdown",
      "source": [
        "<a name=\"cell-2\"></a>\n",
        "## 2. Import modules"
      ],
      "metadata": {
        "id": "eoQmIdUgAZPj"
      }
    },
    {
      "cell_type": "code",
      "source": [
        "# Import Python modules\n",
        "\n",
        "import pandas as pd\n",
        "import numpy as np\n",
        "import rpy2.robjects as robjects\n",
        "from rpy2.robjects.packages import importr\n",
        "from rpy2.robjects import conversion, default_converter\n",
        "from rpy2.robjects import pandas2ri\n",
        "\n",
        "import matplotlib.pyplot as plt\n",
        "from matplotlib.patches import Rectangle\n",
        "import matplotlib.gridspec as gridspec\n",
        "from matplotlib.path import Path\n",
        "import matplotlib.patches as patches\n",
        "\n",
        "%matplotlib inline\n"
      ],
      "metadata": {
        "id": "lqkK_ujSgwi_"
      },
      "execution_count": null,
      "outputs": []
    },
    {
      "cell_type": "code",
      "source": [
        "# Import basic R modules in context manager\n",
        "\n",
        "with conversion.localconverter(default_converter):\n",
        "    # import R's \"base\" package\n",
        "    base = importr('base')\n",
        "\n",
        "    # import R's \"utils\" package\n",
        "    utils = importr('utils')\n"
      ],
      "metadata": {
        "id": "_W52KO3EjWYw"
      },
      "execution_count": null,
      "outputs": []
    },
    {
      "cell_type": "code",
      "source": [
        "# Install metafor package\n",
        "\n",
        "with conversion.localconverter(default_converter):\n",
        "    utils.chooseCRANmirror(ind=1)\n",
        "    utils.install_packages('metafor')\n"
      ],
      "metadata": {
        "id": "WVX3HnImseAm"
      },
      "execution_count": null,
      "outputs": []
    },
    {
      "cell_type": "code",
      "source": [
        "# Import metafor\n",
        "\n",
        "with conversion.localconverter(default_converter):\n",
        "    metafor = importr('metafor')\n"
      ],
      "metadata": {
        "id": "z3I5CpSPtX2u"
      },
      "execution_count": null,
      "outputs": []
    },
    {
      "cell_type": "markdown",
      "source": [
        "<a name=\"cell-3\"></a>\n",
        "## 3. Prepare data"
      ],
      "metadata": {
        "id": "55xS4aCe-ZVW"
      }
    },
    {
      "cell_type": "code",
      "source": [
        "# Example data for meta-analysis\n",
        "# Here we use Hedge's g as effect size and vi as variance\n",
        "# Standard error of mean will be also used in our calculations\n",
        "\n",
        "df = pd.DataFrame({\n",
        "                    'Author': ['Schrute et al. (2023)', 'Goodman et al. (2020)', 'White et al. (2013)', 'Schrute et al. (2023)', 'Targaryen et al. (2021)'],\n",
        "                    'g': [0.5, 0.35, 0.15, -0.05, 0.8],\n",
        "                    'vi': [0.1, 0.15, 0.12, 0.17, 0.2],\n",
        "                    'SE': [0.22, 0.35, 0.3, 0.42, 0.6],\n",
        "                    'Sample size': [30, 15, 20, 40, 12]\n",
        "                    })\n",
        "df"
      ],
      "metadata": {
        "colab": {
          "base_uri": "https://localhost:8080/",
          "height": 206
        },
        "id": "k3eBn2NEzi51",
        "outputId": "0f415022-1008-44c7-cd20-898594033609"
      },
      "execution_count": null,
      "outputs": [
        {
          "output_type": "execute_result",
          "data": {
            "text/plain": [
              "                    Author     g    vi    SE  Sample size\n",
              "0    Schrute et al. (2023)  0.50  0.10  0.22           30\n",
              "1    Goodman et al. (2020)  0.35  0.15  0.35           15\n",
              "2      White et al. (2013)  0.15  0.12  0.30           20\n",
              "3    Schrute et al. (2023) -0.05  0.17  0.42           40\n",
              "4  Targaryen et al. (2021)  0.80  0.20  0.60           12"
            ],
            "text/html": [
              "\n",
              "  <div id=\"df-bb46ad2c-723b-4f9b-a1ae-851b5d90f6b2\">\n",
              "    <div class=\"colab-df-container\">\n",
              "      <div>\n",
              "<style scoped>\n",
              "    .dataframe tbody tr th:only-of-type {\n",
              "        vertical-align: middle;\n",
              "    }\n",
              "\n",
              "    .dataframe tbody tr th {\n",
              "        vertical-align: top;\n",
              "    }\n",
              "\n",
              "    .dataframe thead th {\n",
              "        text-align: right;\n",
              "    }\n",
              "</style>\n",
              "<table border=\"1\" class=\"dataframe\">\n",
              "  <thead>\n",
              "    <tr style=\"text-align: right;\">\n",
              "      <th></th>\n",
              "      <th>Author</th>\n",
              "      <th>g</th>\n",
              "      <th>vi</th>\n",
              "      <th>SE</th>\n",
              "      <th>Sample size</th>\n",
              "    </tr>\n",
              "  </thead>\n",
              "  <tbody>\n",
              "    <tr>\n",
              "      <th>0</th>\n",
              "      <td>Schrute et al. (2023)</td>\n",
              "      <td>0.50</td>\n",
              "      <td>0.10</td>\n",
              "      <td>0.22</td>\n",
              "      <td>30</td>\n",
              "    </tr>\n",
              "    <tr>\n",
              "      <th>1</th>\n",
              "      <td>Goodman et al. (2020)</td>\n",
              "      <td>0.35</td>\n",
              "      <td>0.15</td>\n",
              "      <td>0.35</td>\n",
              "      <td>15</td>\n",
              "    </tr>\n",
              "    <tr>\n",
              "      <th>2</th>\n",
              "      <td>White et al. (2013)</td>\n",
              "      <td>0.15</td>\n",
              "      <td>0.12</td>\n",
              "      <td>0.30</td>\n",
              "      <td>20</td>\n",
              "    </tr>\n",
              "    <tr>\n",
              "      <th>3</th>\n",
              "      <td>Schrute et al. (2023)</td>\n",
              "      <td>-0.05</td>\n",
              "      <td>0.17</td>\n",
              "      <td>0.42</td>\n",
              "      <td>40</td>\n",
              "    </tr>\n",
              "    <tr>\n",
              "      <th>4</th>\n",
              "      <td>Targaryen et al. (2021)</td>\n",
              "      <td>0.80</td>\n",
              "      <td>0.20</td>\n",
              "      <td>0.60</td>\n",
              "      <td>12</td>\n",
              "    </tr>\n",
              "  </tbody>\n",
              "</table>\n",
              "</div>\n",
              "      <button class=\"colab-df-convert\" onclick=\"convertToInteractive('df-bb46ad2c-723b-4f9b-a1ae-851b5d90f6b2')\"\n",
              "              title=\"Convert this dataframe to an interactive table.\"\n",
              "              style=\"display:none;\">\n",
              "        \n",
              "  <svg xmlns=\"http://www.w3.org/2000/svg\" height=\"24px\"viewBox=\"0 0 24 24\"\n",
              "       width=\"24px\">\n",
              "    <path d=\"M0 0h24v24H0V0z\" fill=\"none\"/>\n",
              "    <path d=\"M18.56 5.44l.94 2.06.94-2.06 2.06-.94-2.06-.94-.94-2.06-.94 2.06-2.06.94zm-11 1L8.5 8.5l.94-2.06 2.06-.94-2.06-.94L8.5 2.5l-.94 2.06-2.06.94zm10 10l.94 2.06.94-2.06 2.06-.94-2.06-.94-.94-2.06-.94 2.06-2.06.94z\"/><path d=\"M17.41 7.96l-1.37-1.37c-.4-.4-.92-.59-1.43-.59-.52 0-1.04.2-1.43.59L10.3 9.45l-7.72 7.72c-.78.78-.78 2.05 0 2.83L4 21.41c.39.39.9.59 1.41.59.51 0 1.02-.2 1.41-.59l7.78-7.78 2.81-2.81c.8-.78.8-2.07 0-2.86zM5.41 20L4 18.59l7.72-7.72 1.47 1.35L5.41 20z\"/>\n",
              "  </svg>\n",
              "      </button>\n",
              "      \n",
              "  <style>\n",
              "    .colab-df-container {\n",
              "      display:flex;\n",
              "      flex-wrap:wrap;\n",
              "      gap: 12px;\n",
              "    }\n",
              "\n",
              "    .colab-df-convert {\n",
              "      background-color: #E8F0FE;\n",
              "      border: none;\n",
              "      border-radius: 50%;\n",
              "      cursor: pointer;\n",
              "      display: none;\n",
              "      fill: #1967D2;\n",
              "      height: 32px;\n",
              "      padding: 0 0 0 0;\n",
              "      width: 32px;\n",
              "    }\n",
              "\n",
              "    .colab-df-convert:hover {\n",
              "      background-color: #E2EBFA;\n",
              "      box-shadow: 0px 1px 2px rgba(60, 64, 67, 0.3), 0px 1px 3px 1px rgba(60, 64, 67, 0.15);\n",
              "      fill: #174EA6;\n",
              "    }\n",
              "\n",
              "    [theme=dark] .colab-df-convert {\n",
              "      background-color: #3B4455;\n",
              "      fill: #D2E3FC;\n",
              "    }\n",
              "\n",
              "    [theme=dark] .colab-df-convert:hover {\n",
              "      background-color: #434B5C;\n",
              "      box-shadow: 0px 1px 3px 1px rgba(0, 0, 0, 0.15);\n",
              "      filter: drop-shadow(0px 1px 2px rgba(0, 0, 0, 0.3));\n",
              "      fill: #FFFFFF;\n",
              "    }\n",
              "  </style>\n",
              "\n",
              "      <script>\n",
              "        const buttonEl =\n",
              "          document.querySelector('#df-bb46ad2c-723b-4f9b-a1ae-851b5d90f6b2 button.colab-df-convert');\n",
              "        buttonEl.style.display =\n",
              "          google.colab.kernel.accessAllowed ? 'block' : 'none';\n",
              "\n",
              "        async function convertToInteractive(key) {\n",
              "          const element = document.querySelector('#df-bb46ad2c-723b-4f9b-a1ae-851b5d90f6b2');\n",
              "          const dataTable =\n",
              "            await google.colab.kernel.invokeFunction('convertToInteractive',\n",
              "                                                     [key], {});\n",
              "          if (!dataTable) return;\n",
              "\n",
              "          const docLinkHtml = 'Like what you see? Visit the ' +\n",
              "            '<a target=\"_blank\" href=https://colab.research.google.com/notebooks/data_table.ipynb>data table notebook</a>'\n",
              "            + ' to learn more about interactive tables.';\n",
              "          element.innerHTML = '';\n",
              "          dataTable['output_type'] = 'display_data';\n",
              "          await google.colab.output.renderOutput(dataTable, element);\n",
              "          const docLink = document.createElement('div');\n",
              "          docLink.innerHTML = docLinkHtml;\n",
              "          element.appendChild(docLink);\n",
              "        }\n",
              "      </script>\n",
              "    </div>\n",
              "  </div>\n",
              "  "
            ]
          },
          "metadata": {},
          "execution_count": 51
        }
      ]
    },
    {
      "cell_type": "code",
      "source": [
        "# Mount Google Drive if needed\n",
        "\n",
        "from google.colab import drive\n",
        "drive.mount('/content/drive')\n"
      ],
      "metadata": {
        "colab": {
          "base_uri": "https://localhost:8080/"
        },
        "id": "bNGn1Che-fn0",
        "outputId": "f6e9fda5-2905-4614-baeb-53e04642cb45"
      },
      "execution_count": null,
      "outputs": [
        {
          "output_type": "stream",
          "name": "stdout",
          "text": [
            "Mounted at /content/drive\n"
          ]
        }
      ]
    },
    {
      "cell_type": "code",
      "source": [
        "# Change working directory if needed (files will be saved here)\n",
        "\n",
        "%cd /content/drive/MyDrive/Colab Notebooks/\n",
        "!pwd\n"
      ],
      "metadata": {
        "colab": {
          "base_uri": "https://localhost:8080/"
        },
        "id": "vBmq2_kUneOL",
        "outputId": "fd8982f1-252a-493d-c3d2-63ba948eb729"
      },
      "execution_count": null,
      "outputs": [
        {
          "output_type": "stream",
          "name": "stdout",
          "text": [
            "/content/drive/MyDrive/Colab Notebooks\n",
            "/content/drive/MyDrive/Colab Notebooks\n"
          ]
        }
      ]
    },
    {
      "cell_type": "code",
      "source": [
        "# Specify the file containing data and read it as Pandas Data Frame\n",
        "\n",
        "file_name = \"myfile.csv\"\n",
        "df = pd.read_csv('/content/drive/My Drive/Colab Notebooks/' + file_name, sep=';', encoding='utf-8')\n",
        "df\n"
      ],
      "metadata": {
        "id": "8jcb8RLl-6BH"
      },
      "execution_count": null,
      "outputs": []
    },
    {
      "cell_type": "markdown",
      "source": [
        "<a name=\"cell-4\"></a>\n",
        "## 4. Run metafor functions\n",
        "\n",
        "For reference: [metafor](https://wviechtb.github.io/metafor/reference/index.html)\n",
        "\n"
      ],
      "metadata": {
        "id": "vasKx7UEQThQ"
      }
    },
    {
      "cell_type": "code",
      "source": [
        "# Run all metafor functions at once, including meta-analysis and publication bias analysis\n",
        "# These R-generated objects will be used to create plots\n",
        "\n",
        "with (default_converter + pandas2ri.converter).context():\n",
        "    # Meta-analysis\n",
        "    rma_res = metafor.rma(yi=df['g'], vi=df['vi'], method = \"REML\")\n",
        "\n",
        "    # Funnel plot asymetry (used later)\n",
        "    egger = metafor.regtest(x=df['g'], sei=df['SE'], model=\"rma\", predictor=\"sei\")\n",
        "    rank_test = metafor.ranktest(x=df['g'], sei=df['SE'])\n",
        "\n",
        "    # File Drawer Analysis (used later)\n",
        "    fail_safe = metafor.fsn(yi=df['g'], sei=df['SE'], type=\"Rosenthal\", alpha=.05, weighted=False)\n",
        "\n",
        "print(rma_res['call'])"
      ],
      "metadata": {
        "colab": {
          "base_uri": "https://localhost:8080/"
        },
        "id": "IXXOWl2LF5E_",
        "outputId": "1532e5fb-6995-4ddd-f23c-bff4099ae3b9"
      },
      "execution_count": null,
      "outputs": [
        {
          "output_type": "stream",
          "name": "stdout",
          "text": [
            "\n",
            "Random-Effects Model (k = 5; tau^2 estimator: REML)\n",
            "\n",
            "tau^2 (estimated amount of total heterogeneity): 0 (SE = 0.0979)\n",
            "tau (square root of estimated tau^2 value):      0\n",
            "I^2 (total heterogeneity / total variability):   0.00%\n",
            "H^2 (total variability / sampling variability):  1.00\n",
            "\n",
            "Test for Heterogeneity:\n",
            "Q(df = 4) = 2.5100, p-val = 0.6428\n",
            "\n",
            "Model Results:\n",
            "\n",
            "estimate      se    zval    pval   ci.lb   ci.ub    \n",
            "  0.3425  0.1669  2.0516  0.0402  0.0153  0.6697  * \n",
            "\n",
            "---\n",
            "Signif. codes:  0 ‘***’ 0.001 ‘**’ 0.01 ‘*’ 0.05 ‘.’ 0.1 ‘ ’ 1\n",
            "\n",
            "\n"
          ]
        }
      ]
    },
    {
      "cell_type": "markdown",
      "source": [
        "<a name=\"cell-5\"></a>\n",
        "## 5. Functions for CI and weight calculation"
      ],
      "metadata": {
        "id": "fGRcFieV__gM"
      }
    },
    {
      "cell_type": "code",
      "source": [
        "# CI calculation\n",
        "\n",
        "def ci_calc(val, se, level=0.95, res='array'):\n",
        "\n",
        "    \"\"\"Function calculates lower and upper bounds CI\n",
        "       val and se can be either floats or arrays of floats\n",
        "    \"\"\"\n",
        "\n",
        "    levels = {0.90: 1.64485,\n",
        "              0.95: 1.95996,\n",
        "              0.99: 2.57583}\n",
        "\n",
        "    z = levels.get(level, 1.95996)\n",
        "\n",
        "    lb = val - se * z\n",
        "    ub = val + se * z\n",
        "\n",
        "    ci = pd.DataFrame({'lb': lb, 'ub': ub}) if res=='df' else np.array([lb, ub])\n",
        "\n",
        "    return ci\n",
        "\n",
        "\n",
        "# Weight calculation\n",
        "\n",
        "def weight_calc(arr_vi, tau2=None, model='RE'):\n",
        "\n",
        "    \"\"\"Function calculates weights of studies\"\"\"\n",
        "\n",
        "    if model == 'FE':\n",
        "        arr_iv = 1 / (arr_vi)\n",
        "        w = (arr_iv / np.sum(arr_iv)) * 100\n",
        "        return w\n",
        "\n",
        "    elif model == 'RE':\n",
        "        if tau2 != None:\n",
        "            arr_iv = 1 / (tau2 + arr_vi)\n",
        "            w = (arr_iv / np.sum(arr_iv)) * 100\n",
        "            return w\n",
        "        else:\n",
        "            return None\n",
        "    else:\n",
        "        return None\n"
      ],
      "metadata": {
        "id": "482lx-xmv2bw"
      },
      "execution_count": null,
      "outputs": []
    },
    {
      "cell_type": "markdown",
      "source": [
        "<a name=\"cell-6\"></a>\n",
        "## 6. Forest plot"
      ],
      "metadata": {
        "id": "ey4FA6WRwvio"
      }
    },
    {
      "cell_type": "code",
      "source": [
        "# Modify Data Frame adding a column with weight and two columns for CI\n",
        "\n",
        "ci = ci_calc(df['g'], df['SE'], res='df')\n",
        "weights = weight_calc(df['vi'], tau2=rma_res['tau2'][0], model='RE')\n",
        "cols = [df, ci, pd.Series(weights, name='w')]\n",
        "df_merge = pd.concat(cols, axis=1)\n",
        "df_merge\n"
      ],
      "metadata": {
        "colab": {
          "base_uri": "https://localhost:8080/",
          "height": 206
        },
        "id": "LoPczv9eFUJ2",
        "outputId": "f1184c3b-2695-4766-e2da-6f7882465b36"
      },
      "execution_count": null,
      "outputs": [
        {
          "output_type": "execute_result",
          "data": {
            "text/plain": [
              "                    Author     g    vi    SE  Sample size        lb        ub  \\\n",
              "0    Schrute et al. (2023)  0.50  0.10  0.22           30  0.068809  0.931191   \n",
              "1    Goodman et al. (2020)  0.35  0.15  0.35           15 -0.335986  1.035986   \n",
              "2      White et al. (2013)  0.15  0.12  0.30           20 -0.437988  0.737988   \n",
              "3    Schrute et al. (2023) -0.05  0.17  0.42           40 -0.873183  0.773183   \n",
              "4  Targaryen et al. (2021)  0.80  0.20  0.60           12 -0.375976  1.975976   \n",
              "\n",
              "           w  \n",
              "0  27.868852  \n",
              "1  18.579235  \n",
              "2  23.224044  \n",
              "3  16.393443  \n",
              "4  13.934426  "
            ],
            "text/html": [
              "\n",
              "  <div id=\"df-068f3022-bc1b-43db-ba61-b2b5c1d0cd37\">\n",
              "    <div class=\"colab-df-container\">\n",
              "      <div>\n",
              "<style scoped>\n",
              "    .dataframe tbody tr th:only-of-type {\n",
              "        vertical-align: middle;\n",
              "    }\n",
              "\n",
              "    .dataframe tbody tr th {\n",
              "        vertical-align: top;\n",
              "    }\n",
              "\n",
              "    .dataframe thead th {\n",
              "        text-align: right;\n",
              "    }\n",
              "</style>\n",
              "<table border=\"1\" class=\"dataframe\">\n",
              "  <thead>\n",
              "    <tr style=\"text-align: right;\">\n",
              "      <th></th>\n",
              "      <th>Author</th>\n",
              "      <th>g</th>\n",
              "      <th>vi</th>\n",
              "      <th>SE</th>\n",
              "      <th>Sample size</th>\n",
              "      <th>lb</th>\n",
              "      <th>ub</th>\n",
              "      <th>w</th>\n",
              "    </tr>\n",
              "  </thead>\n",
              "  <tbody>\n",
              "    <tr>\n",
              "      <th>0</th>\n",
              "      <td>Schrute et al. (2023)</td>\n",
              "      <td>0.50</td>\n",
              "      <td>0.10</td>\n",
              "      <td>0.22</td>\n",
              "      <td>30</td>\n",
              "      <td>0.068809</td>\n",
              "      <td>0.931191</td>\n",
              "      <td>27.868852</td>\n",
              "    </tr>\n",
              "    <tr>\n",
              "      <th>1</th>\n",
              "      <td>Goodman et al. (2020)</td>\n",
              "      <td>0.35</td>\n",
              "      <td>0.15</td>\n",
              "      <td>0.35</td>\n",
              "      <td>15</td>\n",
              "      <td>-0.335986</td>\n",
              "      <td>1.035986</td>\n",
              "      <td>18.579235</td>\n",
              "    </tr>\n",
              "    <tr>\n",
              "      <th>2</th>\n",
              "      <td>White et al. (2013)</td>\n",
              "      <td>0.15</td>\n",
              "      <td>0.12</td>\n",
              "      <td>0.30</td>\n",
              "      <td>20</td>\n",
              "      <td>-0.437988</td>\n",
              "      <td>0.737988</td>\n",
              "      <td>23.224044</td>\n",
              "    </tr>\n",
              "    <tr>\n",
              "      <th>3</th>\n",
              "      <td>Schrute et al. (2023)</td>\n",
              "      <td>-0.05</td>\n",
              "      <td>0.17</td>\n",
              "      <td>0.42</td>\n",
              "      <td>40</td>\n",
              "      <td>-0.873183</td>\n",
              "      <td>0.773183</td>\n",
              "      <td>16.393443</td>\n",
              "    </tr>\n",
              "    <tr>\n",
              "      <th>4</th>\n",
              "      <td>Targaryen et al. (2021)</td>\n",
              "      <td>0.80</td>\n",
              "      <td>0.20</td>\n",
              "      <td>0.60</td>\n",
              "      <td>12</td>\n",
              "      <td>-0.375976</td>\n",
              "      <td>1.975976</td>\n",
              "      <td>13.934426</td>\n",
              "    </tr>\n",
              "  </tbody>\n",
              "</table>\n",
              "</div>\n",
              "      <button class=\"colab-df-convert\" onclick=\"convertToInteractive('df-068f3022-bc1b-43db-ba61-b2b5c1d0cd37')\"\n",
              "              title=\"Convert this dataframe to an interactive table.\"\n",
              "              style=\"display:none;\">\n",
              "        \n",
              "  <svg xmlns=\"http://www.w3.org/2000/svg\" height=\"24px\"viewBox=\"0 0 24 24\"\n",
              "       width=\"24px\">\n",
              "    <path d=\"M0 0h24v24H0V0z\" fill=\"none\"/>\n",
              "    <path d=\"M18.56 5.44l.94 2.06.94-2.06 2.06-.94-2.06-.94-.94-2.06-.94 2.06-2.06.94zm-11 1L8.5 8.5l.94-2.06 2.06-.94-2.06-.94L8.5 2.5l-.94 2.06-2.06.94zm10 10l.94 2.06.94-2.06 2.06-.94-2.06-.94-.94-2.06-.94 2.06-2.06.94z\"/><path d=\"M17.41 7.96l-1.37-1.37c-.4-.4-.92-.59-1.43-.59-.52 0-1.04.2-1.43.59L10.3 9.45l-7.72 7.72c-.78.78-.78 2.05 0 2.83L4 21.41c.39.39.9.59 1.41.59.51 0 1.02-.2 1.41-.59l7.78-7.78 2.81-2.81c.8-.78.8-2.07 0-2.86zM5.41 20L4 18.59l7.72-7.72 1.47 1.35L5.41 20z\"/>\n",
              "  </svg>\n",
              "      </button>\n",
              "      \n",
              "  <style>\n",
              "    .colab-df-container {\n",
              "      display:flex;\n",
              "      flex-wrap:wrap;\n",
              "      gap: 12px;\n",
              "    }\n",
              "\n",
              "    .colab-df-convert {\n",
              "      background-color: #E8F0FE;\n",
              "      border: none;\n",
              "      border-radius: 50%;\n",
              "      cursor: pointer;\n",
              "      display: none;\n",
              "      fill: #1967D2;\n",
              "      height: 32px;\n",
              "      padding: 0 0 0 0;\n",
              "      width: 32px;\n",
              "    }\n",
              "\n",
              "    .colab-df-convert:hover {\n",
              "      background-color: #E2EBFA;\n",
              "      box-shadow: 0px 1px 2px rgba(60, 64, 67, 0.3), 0px 1px 3px 1px rgba(60, 64, 67, 0.15);\n",
              "      fill: #174EA6;\n",
              "    }\n",
              "\n",
              "    [theme=dark] .colab-df-convert {\n",
              "      background-color: #3B4455;\n",
              "      fill: #D2E3FC;\n",
              "    }\n",
              "\n",
              "    [theme=dark] .colab-df-convert:hover {\n",
              "      background-color: #434B5C;\n",
              "      box-shadow: 0px 1px 3px 1px rgba(0, 0, 0, 0.15);\n",
              "      filter: drop-shadow(0px 1px 2px rgba(0, 0, 0, 0.3));\n",
              "      fill: #FFFFFF;\n",
              "    }\n",
              "  </style>\n",
              "\n",
              "      <script>\n",
              "        const buttonEl =\n",
              "          document.querySelector('#df-068f3022-bc1b-43db-ba61-b2b5c1d0cd37 button.colab-df-convert');\n",
              "        buttonEl.style.display =\n",
              "          google.colab.kernel.accessAllowed ? 'block' : 'none';\n",
              "\n",
              "        async function convertToInteractive(key) {\n",
              "          const element = document.querySelector('#df-068f3022-bc1b-43db-ba61-b2b5c1d0cd37');\n",
              "          const dataTable =\n",
              "            await google.colab.kernel.invokeFunction('convertToInteractive',\n",
              "                                                     [key], {});\n",
              "          if (!dataTable) return;\n",
              "\n",
              "          const docLinkHtml = 'Like what you see? Visit the ' +\n",
              "            '<a target=\"_blank\" href=https://colab.research.google.com/notebooks/data_table.ipynb>data table notebook</a>'\n",
              "            + ' to learn more about interactive tables.';\n",
              "          element.innerHTML = '';\n",
              "          dataTable['output_type'] = 'display_data';\n",
              "          await google.colab.output.renderOutput(dataTable, element);\n",
              "          const docLink = document.createElement('div');\n",
              "          docLink.innerHTML = docLinkHtml;\n",
              "          element.appendChild(docLink);\n",
              "        }\n",
              "      </script>\n",
              "    </div>\n",
              "  </div>\n",
              "  "
            ]
          },
          "metadata": {},
          "execution_count": 54
        }
      ]
    },
    {
      "cell_type": "code",
      "source": [
        "# Forest plot\n",
        "\n",
        "def forest_plot(data, rma_res, sortby='w', weight='w', study_label='Author',\n",
        "                ci_vals={'lower': 'lb', 'upper': 'ub'}, vi='vi', es='g',\n",
        "                estimate=\"Hedge's g\", ci_label='ES (95% CI)', figsize=(12, 4),\n",
        "                width_ratios=[0.4, 0.6, 0.4], es_xlim=(-1, 3), vline_ymax=0.93,\n",
        "                mcolor='green', mecolor='green', mratio=1, fontsize=10,\n",
        "                fontname='sans-serif', cond_labels=('placebo', 'intervention'),\n",
        "                cond_labels_vadj=-0.05, incl_details=False, filename=None,\n",
        "                filetype=None, filedpi=100)->None:\n",
        "\n",
        "    \"\"\"Function creates a forest plot\n",
        "\n",
        "       Parameters\n",
        "       ----------\n",
        "       data: DataFrame, required\n",
        "           Includes columns with effect sizes and variability specified as\n",
        "           column names in parameters 'es' and 'vi'\n",
        "       rma_res: rma object generated by R metafor, required\n",
        "           Includes results of meta-analysis (overall effect size, CI,\n",
        "           heterogeneity statistics)\n",
        "       ...\n",
        "    \"\"\"\n",
        "\n",
        "    RE_MODELS = {\"DL\", \"HE\", \"HS\", \"HSk\", \"SJ\", \"ML\", \"REML\", \"EB\", \"PM\", \"GENQ\", \"PMM\", \"GENQM\"}\n",
        "\n",
        "    # Prepare data - sort, add numbers to duplicate study labels, create an array of indices\n",
        "    data_sorted = data.sort_values(sortby, ascending=False) # temporary sort to add numbers\n",
        "    data_sorted[study_label] = np.where(data_sorted[study_label].duplicated(keep=False),\n",
        "                                        data_sorted[study_label] + '.' + data_sorted.groupby(study_label).cumcount().add(1).astype(str),\n",
        "                                        data_sorted[study_label])\n",
        "    data_sorted = data_sorted.sort_values(sortby, ascending=True) # final sort\n",
        "\n",
        "    ind = np.arange(1, len(data_sorted.index)+1)\n",
        "\n",
        "    model_label = 'RE Model' if list(rma_res['method'])[0] in RE_MODELS else 'FE Model'\n",
        "    ylim = len(ind) + 2\n",
        "\n",
        "    # Parameters of diamond which represents overall effect\n",
        "    dmnd_x = rma_res['beta'][0, 0]\n",
        "    dmnd_y = -1\n",
        "    dmnd_range = (rma_res['ci.ub'][0] - rma_res['ci.lb'][0]) / 2\n",
        "    dmnd_height = 0.2\n",
        "\n",
        "    plt.rcParams.update({'font.size': fontsize})\n",
        "\n",
        "    fig = plt.figure(figsize=figsize)\n",
        "    if incl_details:\n",
        "        gs = gridspec.GridSpec(2, 3, width_ratios=width_ratios, height_ratios=[0.8, 0.2])\n",
        "    else:\n",
        "        gs = gridspec.GridSpec(1, 3, width_ratios=width_ratios)\n",
        "\n",
        "    # Create the axes using gridspec\n",
        "    ax1 = fig.add_subplot(gs[0, 0])\n",
        "    ax2 = fig.add_subplot(gs[0, 1])\n",
        "    ax3 = fig.add_subplot(gs[0, 2])\n",
        "\n",
        "    if incl_details:\n",
        "        ax4 = fig.add_subplot(gs[1, :])\n",
        "\n",
        "    # Ax 1\n",
        "\n",
        "    ax1.set_xlim(0, 1)\n",
        "    ax1.set_ylim(-2, ylim)\n",
        "    ax1.set_xticks([])\n",
        "    ax1.set_yticks([])\n",
        "\n",
        "    for i, row in data_sorted.iterrows():\n",
        "        j = data_sorted.index.get_loc(i) + 1\n",
        "        ax1.annotate(f\" {row[study_label]}\", (0, j), va='center')\n",
        "\n",
        "    ax1.annotate(\"Study\", (0, ylim), va='center', fontname=fontname, weight=\"bold\")\n",
        "    ax1.annotate(f\"{model_label}\", (0, dmnd_y), va='center')\n",
        "    tau = r'$\\tau^2$'\n",
        "    hetero_text = (f\"Q({rma_res['k'][0]-1})={rma_res['QE'][0]:.2f}, \"\n",
        "                   f\"p={rma_res['QEp'][0]:.3f}, {r'I$^2$'}={rma_res['I2'][0]:.2f}%, \"\n",
        "                   f\"{tau}={rma_res['tau2'][0]:.2f}\")\n",
        "    ax1.annotate(hetero_text, (0, dmnd_y-1), va='center')\n",
        "\n",
        "    # Ax 2\n",
        "\n",
        "    for i, row in data_sorted.iterrows():\n",
        "        ax2.errorbar(row[es], data_sorted.index.get_loc(i)+1,\n",
        "                     xerr=(row[ci_vals['upper']] - row[ci_vals['lower']]) / 2,\n",
        "                     fmt='.', marker='s', ms=mratio/row[vi], mfc=mcolor,\n",
        "                     mec=mecolor, color='black', capsize=2)\n",
        "\n",
        "    diamond = Path([(dmnd_x, dmnd_y - dmnd_height),  # top point\n",
        "                        (dmnd_x - dmnd_range, dmnd_y),  # left point\n",
        "                        (dmnd_x, dmnd_y + dmnd_height),  # bottom point\n",
        "                        (dmnd_x + dmnd_range, dmnd_y)],  # right point\n",
        "                        codes=[Path.MOVETO, Path.LINETO, Path.LINETO, Path.LINETO],\n",
        "                        closed=True)\n",
        "    patch = patches.PathPatch(diamond, facecolor='black', edgecolor='black')\n",
        "    ax2.add_patch(patch)\n",
        "\n",
        "    ax2.axvline(x=0, color='black', linestyle='dotted', linewidth=0.8, ymin=0, ymax=vline_ymax)\n",
        "    ax2.set_xlim(es_xlim)\n",
        "    ax2.set_ylim(-2, ylim)\n",
        "    ax2.set_yticks([])\n",
        "\n",
        "    ax2.annotate(f\"{estimate}\", (0.5, ylim), va='center', fontname=fontname,\n",
        "                 transform=ax2.transAxes, ha='center', weight=\"bold\")\n",
        "    ax2.set_xlabel(f\"Favours {cond_labels[0]}\", loc='left')\n",
        "    ax2.xaxis.set_label_coords(0, cond_labels_vadj, transform=ax2.transAxes)\n",
        "    ax2.text(1, cond_labels_vadj, f\"Favours {cond_labels[1]}\", transform=ax2.transAxes, ha='right', va='top')\n",
        "\n",
        "    # Ax 3\n",
        "\n",
        "    ax3.set_xlim(0, 1)\n",
        "    ax3.set_ylim(-2, ylim)\n",
        "    ax3.set_xticks([])\n",
        "    ax3.set_yticks([])\n",
        "\n",
        "    for i, row in data_sorted.iterrows():\n",
        "        j = data_sorted.index.get_loc(i) + 1\n",
        "        ax3.annotate(f\"{row[weight]:>6.2f}% {row[es]:>6.2f} [{row[ci_vals['lower']]:5.2f}, {row[ci_vals['upper']]:5.2f}] \",\n",
        "                     (1, j), va='center', fontname=fontname, transform=ax3.transAxes, ha='right')\n",
        "\n",
        "    ax3.annotate(f\"{'Weight':>6}   {ci_label:>}{8*' '}\", (1, ylim), va='center',\n",
        "                 fontname=fontname, transform=ax3.transAxes, ha='right', weight=\"bold\")\n",
        "    ax3.annotate(f\"{100:>6.2f}% {rma_res['beta'][0, 0]:>6.2f} [{rma_res['ci.lb'][0]:5.2f}, {rma_res['ci.ub'][0]:5.2f}] \",\n",
        "                 (1, dmnd_y), va='center', fontname=fontname, transform=ax3.transAxes, ha='right')\n",
        "\n",
        "    # Ax 4 - if needed this panel can be filled with some other things like text with analysis details (e.g. rma_res['call'])\n",
        "\n",
        "    if incl_details:\n",
        "        ax4.set_xticks([])\n",
        "        ax4.set_yticks([])\n",
        "\n",
        "    # Remove the spines (borders) of the axes\n",
        "    ax1.spines[['left', 'right', 'bottom', 'top']].set_visible(False)\n",
        "    ax2.spines[['left', 'right', 'top']].set_visible(False)\n",
        "    ax3.spines[['left', 'right', 'bottom', 'top']].set_visible(False)\n",
        "    if incl_details:\n",
        "        ax4.spines[['left', 'right', 'bottom', 'top']].set_visible(False)\n",
        "\n",
        "    # Horizontal lines across all axes\n",
        "    for ax in (ax1, ax2, ax3):\n",
        "        ax.axhline(y=ax.get_ylim()[1]-1, color='black', linestyle='-', linewidth=0.8)\n",
        "        ax.axhline(y=0, color='black', linestyle='-', linewidth=0.8)\n",
        "\n",
        "    plt.subplots_adjust(wspace=0.0, hspace=0.15)\n",
        "    #plt.tight_layout()\n",
        "    plt.show()\n",
        "\n",
        "    # Save plot to file (filename and filetype parameters cannot be None or empty)\n",
        "    if filename and filetype:\n",
        "        fig.savefig(f\"{filename}.{filetype}\", dpi=filedpi, format=filetype)\n",
        "        print('Saving image file')\n",
        "\n",
        "    return None\n",
        "\n",
        "forest_plot(df_merge, rma_res, figsize=(10, 5), width_ratios=[0.7, 0.6, 0.5] ,\n",
        "            fontsize=9, cond_labels_vadj=-0.06, vline_ymax=0.88, es_xlim=(-1, 3))"
      ],
      "metadata": {
        "colab": {
          "base_uri": "https://localhost:8080/",
          "height": 499
        },
        "id": "GHeJGhLjPMdN",
        "outputId": "2f822613-283c-47d9-c890-e2fa9d065479"
      },
      "execution_count": null,
      "outputs": [
        {
          "output_type": "stream",
          "name": "stderr",
          "text": [
            "<ipython-input-60-adc64a8443d9>:83: UserWarning: marker is redundantly defined by the 'marker' keyword argument and the fmt string \".\" (-> marker='.'). The keyword argument will take precedence.\n",
            "  ax2.errorbar(row[es], data_sorted.index.get_loc(i)+1,\n"
          ]
        },
        {
          "output_type": "display_data",
          "data": {
            "text/plain": [
              "<Figure size 1000x500 with 3 Axes>"
            ],
            "image/png": "[encoded data removed]"
          },
          "metadata": {}
        }
      ]
    },
    {
      "cell_type": "markdown",
      "source": [
        "<a name=\"cell-7\"></a>\n",
        "## 7. Publication bias analysis\n",
        "The below funnel plot function is based on [Stack Overflow](https://stackoverflow.com/questions/65262690/creating-a-contour-enhanced-funnel-plot-in-python)"
      ],
      "metadata": {
        "id": "otn86ttfww-d"
      }
    },
    {
      "cell_type": "code",
      "source": [
        "# Funnel plot\n",
        "\n",
        "def funnel_plot(data, rma_res=None, es='g', var='SE', figsize=(9, 6), x_adj=(1.5, 1.5),\n",
        "                y_adj=(0.01, -0.01), xlabel=\"Observed Outcome\", ylabel=\"Standard Error\",\n",
        "                colors=['whitesmoke', 'lightgray', 'darkgrey',\"white\"], gridcol='white',\n",
        "                filename=None, filetype=None, filedpi=100)->None:\n",
        "\n",
        "    \"\"\"Function to create a funnel plot for publication bias analysis.\n",
        "\n",
        "       Parameters\n",
        "       ----------\n",
        "       data: DataFrame, required\n",
        "           Includes columns with effect sizes and variability\n",
        "           specified as column names in parameters 'es' and 'var'\n",
        "       rma_res: rma object generated by R metafor, optional\n",
        "           Includes results of meta-analysis (overall effect)\n",
        "       ...\n",
        "    \"\"\"\n",
        "\n",
        "    fig, ax = plt.subplots(figsize=figsize)\n",
        "\n",
        "    # Prepare data\n",
        "    x = data[es].to_numpy()\n",
        "    y = np.round(data[var].to_numpy(), 3)\n",
        "    mid = rma_res['beta'][0][0] if rma_res != None else 0\n",
        "\n",
        "    ax.set_xlim(np.min(x) - x_adj[0], np.max(x) + x_adj[1])\n",
        "    ax.set_ylim(np.max(y) + y_adj[0], y_adj[1])\n",
        "    ax.set_facecolor(color=colors[0])\n",
        "\n",
        "    ax.grid(axis='y', zorder=0, color=gridcol)\n",
        "\n",
        "    # Contours\n",
        "    ax.plot ([mid,(-2.58 * np.max(y))+mid],[0, np.max(y)+mid], linestyle=\"none\", lw=1)\n",
        "    ax.plot ([mid,(2.58 * np.max(y))+mid],[0, np.max(y)+mid], linestyle=\"none\", lw=1)\n",
        "\n",
        "    trianglex = [ -2.58 * np.max(y)+mid, mid, 2.58 * np.max(y)+mid]\n",
        "    triangley = [ np.max(y), 0, np.max(y)]\n",
        "    for i in range(3):\n",
        "        ax.plot(trianglex, triangley,color=colors[1], zorder=3)\n",
        "    ax.fill(trianglex, triangley, colors[1], zorder=3)\n",
        "\n",
        "    ax.plot ([mid,(-1.96 * np.max(y))+mid], [0, np.max(y)+mid], linestyle=\"None\", lw=1)\n",
        "    ax.plot ([mid,(1.96 * np.max(y))+mid], [0, np.max(y)+mid], linestyle=\"None\", lw=1)\n",
        "\n",
        "    trianglex = [ -1.96 * np.max(y)+mid, mid, 1.96 * np.max(y)+mid]\n",
        "    triangley = [ np.max(y), 0, np.max(y)]\n",
        "    for i in range(3):\n",
        "        ax.plot(trianglex, triangley,color=colors[2], zorder=3)\n",
        "    ax.fill(trianglex, triangley, colors[2], zorder=3)\n",
        "\n",
        "\n",
        "    ax.plot ([0,(-1.65 * np.max(y))+mid],[0, np.max(y)+mid], linestyle=\"None\", lw=1)\n",
        "    ax.plot ([0,(1.65 * np.max(y))+mid],[0, np.max(y)+mid], linestyle=\"None\", lw=1)\n",
        "\n",
        "    trianglex = [ -1.65 * np.max(y)+mid, mid, 1.65 * np.max(y)+mid]\n",
        "    triangley = [ np.max(y), 0, np.max(y)]\n",
        "    for i in range(3):\n",
        "        ax.plot(trianglex, triangley,color=colors[3], zorder=3)\n",
        "    ax.fill(trianglex, triangley, colors[3], zorder=3)\n",
        "\n",
        "    ax.axvline(x=mid, color='black', linestyle='dotted', linewidth=0.8, ymin=0, ymax=1, zorder=3)\n",
        "\n",
        "    # Actual data plotting\n",
        "    ax.scatter(x, y, marker=\"o\", color=\"black\", zorder=3)\n",
        "\n",
        "    ax.spines[['top', 'right']].set_visible(False)\n",
        "\n",
        "    ax.set_xlabel(xlabel, fontsize=12)\n",
        "    ax.set_ylabel(ylabel, fontsize=12)\n",
        "    plt.show()\n",
        "\n",
        "    # Save plot to file (filename and filetype parameters cannot be None or empty)\n",
        "    if filename and filetype:\n",
        "        fig.savefig(f\"{filename}.{filetype}\", dpi=filedpi, format=filetype)\n",
        "        print('Saving image file')\n",
        "\n",
        "    return None\n",
        "\n",
        "funnel_plot(df_merge, rma_res, es='g', var='SE', figsize=(9, 6), x_adj=(1.5, 1.4),\n",
        "            y_adj=(0.01, -0.01), xlabel=\"Observed Outcome\", ylabel=\"Standard Error\")"
      ],
      "metadata": {
        "colab": {
          "base_uri": "https://localhost:8080/",
          "height": 545
        },
        "id": "DdlxXGceE7x9",
        "outputId": "976a3c88-4bf0-4db1-99d1-9652f52416e1"
      },
      "execution_count": null,
      "outputs": [
        {
          "output_type": "display_data",
          "data": {
            "text/plain": [
              "<Figure size 900x600 with 1 Axes>"
            ],
            "image/png": "[encoded data removed]"
          },
          "metadata": {}
        }
      ]
    },
    {
      "cell_type": "code",
      "source": [
        "# Print publication bias statistics\n",
        "\n",
        "print(f\"Egger's Regression\\nz = {egger['zval'][0]:.3f}, p = {egger['pval'][0]:.3f}\\n\\n\"\n",
        "      f\"Rank Correlation Test\\ntau = {rank_test['tau'][0]:.3f}, p = {rank_test['pval'][0]:.3f}\\n\\n\"\n",
        "      f\"Fail-Safe N ({fail_safe['type'][0]}, Target Alpha={fail_safe['alpha'][0]})\\nvalue = {fail_safe['fsnum'][0]:.3f}, p = {fail_safe['pval'][0]:.3f}\")\n"
      ],
      "metadata": {
        "colab": {
          "base_uri": "https://localhost:8080/"
        },
        "id": "u2FEyt73Fmay",
        "outputId": "78cda656-11b3-45dc-8a0b-44e8e6ada1c4"
      },
      "execution_count": null,
      "outputs": [
        {
          "output_type": "stream",
          "name": "stdout",
          "text": [
            "Egger's Regression\n",
            "z = -0.208, p = 0.836\n",
            "\n",
            "Rank Correlation Test\n",
            "tau = -0.200, p = 0.817\n",
            "\n",
            "Fail-Safe N (Rosenthal, Target Alpha=0.05)\n",
            "value = 5.000, p = 0.013\n"
          ]
        }
      ]
    },
    {
      "cell_type": "markdown",
      "source": [
        "---"
      ],
      "metadata": {
        "id": "QXXqN7mbisVQ"
      }
    }
  ]
}